{
 "cells": [
  {
   "cell_type": "markdown",
   "metadata": {},
   "source": [
    "Test PTBAC2"
   ]
  },
  {
   "cell_type": "code",
   "execution_count": 18,
   "metadata": {},
   "outputs": [
    {
     "name": "stdout",
     "output_type": "stream",
     "text": [
      "Writing ptbac2.in1\n"
     ]
    }
   ],
   "source": [
    "%%writefile ptbac2.in1\n",
    "0 0 0"
   ]
  },
  {
   "cell_type": "code",
   "execution_count": 19,
   "metadata": {},
   "outputs": [
    {
     "name": "stdout",
     "output_type": "stream",
     "text": [
      "Writing ptbac2.in2\n"
     ]
    }
   ],
   "source": [
    "%%writefile ptbac2.in2\n",
    "0 0 1"
   ]
  },
  {
   "cell_type": "code",
   "execution_count": 20,
   "metadata": {},
   "outputs": [
    {
     "name": "stdout",
     "output_type": "stream",
     "text": [
      "Writing ptbac2.in3\n"
     ]
    }
   ],
   "source": [
    "%%writefile ptbac2.in3\n",
    "0 1 1"
   ]
  },
  {
   "cell_type": "code",
   "execution_count": 23,
   "metadata": {},
   "outputs": [
    {
     "name": "stdout",
     "output_type": "stream",
     "text": [
      "Overwriting ptbac2.in4\n"
     ]
    }
   ],
   "source": [
    "%%writefile ptbac2.in4\n",
    "1 4 1"
   ]
  },
  {
   "cell_type": "code",
   "execution_count": 25,
   "metadata": {},
   "outputs": [
    {
     "name": "stdout",
     "output_type": "stream",
     "text": [
      "Writing ptbac2.in5\n"
     ]
    }
   ],
   "source": [
    "%%writefile ptbac2.in5\n",
    "1 2 1"
   ]
  },
  {
   "cell_type": "code",
   "execution_count": 27,
   "metadata": {},
   "outputs": [
    {
     "name": "stdout",
     "output_type": "stream",
     "text": [
      "Writing ptbac2.in6\n"
     ]
    }
   ],
   "source": [
    "%%writefile ptbac2.in6\n",
    "2 2 2"
   ]
  },
  {
   "cell_type": "code",
   "execution_count": 28,
   "metadata": {},
   "outputs": [
    {
     "name": "stdout",
     "output_type": "stream",
     "text": [
      "Test Case 1\n",
      "(0.0)x² + (0.0)x + (0.0) = 0\n",
      "\n",
      "Phương trình có vô số nghiệm\n",
      "_____________________________________\n",
      "Test Case 2\n",
      "(0.0)x² + (0.0)x + (1.0) = 0\n",
      "\n",
      "Phương trình vô nghiệm\n",
      "_____________________________________\n",
      "Test Case 3\n",
      "(0.0)x² + (1.0)x + (1.0) = 0\n",
      "\n",
      "Phương trình có một nghiệm: x = -1.0\n",
      "_____________________________________\n",
      "Test Case 4\n",
      "(1.0)x² + (4.0)x + (1.0) = 0\n",
      "\n",
      "Phương trình có hai nghiệm phân biệt:\n",
      "x1 = -0.2679491924311228\n",
      "x2 = -3.732050807568877\n",
      "_____________________________________\n",
      "Test Case 5\n",
      "(1.0)x² + (2.0)x + (1.0) = 0\n",
      "\n",
      "Phương trình có nghiệm kép: x = -1.0\n",
      "_____________________________________\n",
      "Test Case 6\n",
      "(2.0)x² + (2.0)x + (2.0) = 0\n",
      "\n",
      "Phương trình vô nghiệm\n",
      "_____________________________________\n"
     ]
    }
   ],
   "source": [
    "!echo Test Case 1\n",
    "!python ptbac2.py <ptbac2.in1\n",
    "!echo _____________________________________\n",
    "!echo Test Case 2\n",
    "!python ptbac2.py <ptbac2.in2\n",
    "!echo _____________________________________\n",
    "!echo Test Case 3\n",
    "!python ptbac2.py <ptbac2.in3\n",
    "!echo _____________________________________\n",
    "!echo Test Case 4\n",
    "!python ptbac2.py <ptbac2.in4\n",
    "!echo _____________________________________\n",
    "!echo Test Case 5\n",
    "!python ptbac2.py <ptbac2.in5\n",
    "!echo _____________________________________\n",
    "!echo Test Case 6\n",
    "!python ptbac2.py <ptbac2.in6\n",
    "!echo _____________________________________"
   ]
  }
 ],
 "metadata": {
  "kernelspec": {
   "display_name": "Python 3",
   "language": "python",
   "name": "python3"
  },
  "language_info": {
   "codemirror_mode": {
    "name": "ipython",
    "version": 3
   },
   "file_extension": ".py",
   "mimetype": "text/x-python",
   "name": "python",
   "nbconvert_exporter": "python",
   "pygments_lexer": "ipython3",
   "version": "3.12.4"
  }
 },
 "nbformat": 4,
 "nbformat_minor": 2
}
