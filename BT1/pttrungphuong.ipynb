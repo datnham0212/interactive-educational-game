{
 "cells": [
  {
   "cell_type": "markdown",
   "metadata": {},
   "source": [
    "Test PT TRUNG PHUONG"
   ]
  },
  {
   "cell_type": "code",
   "execution_count": 5,
   "metadata": {},
   "outputs": [
    {
     "name": "stdout",
     "output_type": "stream",
     "text": [
      "Overwriting pttrungphuong.in1\n"
     ]
    }
   ],
   "source": [
    "%%writefile pttrungphuong.in1\n",
    "0 0 0"
   ]
  },
  {
   "cell_type": "code",
   "execution_count": 6,
   "metadata": {},
   "outputs": [
    {
     "name": "stdout",
     "output_type": "stream",
     "text": [
      "Overwriting pttrungphuong.in2\n"
     ]
    }
   ],
   "source": [
    "%%writefile pttrungphuong.in2\n",
    "0 0 1"
   ]
  },
  {
   "cell_type": "code",
   "execution_count": 7,
   "metadata": {},
   "outputs": [
    {
     "name": "stdout",
     "output_type": "stream",
     "text": [
      "Overwriting pttrungphuong.in3\n"
     ]
    }
   ],
   "source": [
    "%%writefile pttrungphuong.in3\n",
    "0 1 1"
   ]
  },
  {
   "cell_type": "code",
   "execution_count": 8,
   "metadata": {},
   "outputs": [
    {
     "name": "stdout",
     "output_type": "stream",
     "text": [
      "Overwriting pttrungphuong.in4\n"
     ]
    }
   ],
   "source": [
    "%%writefile pttrungphuong.in4\n",
    "1 2 2"
   ]
  },
  {
   "cell_type": "code",
   "execution_count": 9,
   "metadata": {},
   "outputs": [
    {
     "name": "stdout",
     "output_type": "stream",
     "text": [
      "Overwriting pttrungphuong.in5\n"
     ]
    }
   ],
   "source": [
    "%%writefile pttrungphuong.in5\n",
    "1 2 1"
   ]
  },
  {
   "cell_type": "code",
   "execution_count": 10,
   "metadata": {},
   "outputs": [
    {
     "name": "stdout",
     "output_type": "stream",
     "text": [
      "Overwriting pttrungphuong.in6\n"
     ]
    }
   ],
   "source": [
    "%%writefile pttrungphuong.in6\n",
    "1 -2 1"
   ]
  },
  {
   "cell_type": "code",
   "execution_count": 11,
   "metadata": {},
   "outputs": [
    {
     "name": "stdout",
     "output_type": "stream",
     "text": [
      "Overwriting pttrungphuong.in7\n"
     ]
    }
   ],
   "source": [
    "%%writefile pttrungphuong.in7\n",
    "1 -6 6"
   ]
  },
  {
   "cell_type": "code",
   "execution_count": 12,
   "metadata": {},
   "outputs": [
    {
     "name": "stdout",
     "output_type": "stream",
     "text": [
      "Overwriting pttrungphuong.in8\n"
     ]
    }
   ],
   "source": [
    "%%writefile pttrungphuong.in8\n",
    "1 -8 0"
   ]
  },
  {
   "cell_type": "code",
   "execution_count": 14,
   "metadata": {},
   "outputs": [
    {
     "name": "stdout",
     "output_type": "stream",
     "text": [
      "Writing pttrungphuong.in9\n"
     ]
    }
   ],
   "source": [
    "%%writefile pttrungphuong.in9\n",
    "1 0 0"
   ]
  },
  {
   "cell_type": "code",
   "execution_count": 15,
   "metadata": {},
   "outputs": [
    {
     "name": "stdout",
     "output_type": "stream",
     "text": [
      "Test Case 1\n",
      "(0.0)x⁴ + (0.0)x² + (0.0) = 0\n",
      "\n",
      "Phương trình vô số nghiệm\n",
      "_____________________________________\n",
      "Test Case 2\n",
      "(0.0)x⁴ + (0.0)x² + (1.0) = 0\n",
      "\n",
      "Phương trình vô nghiệm\n",
      "_____________________________________\n",
      "Test Case 3\n",
      "(0.0)x⁴ + (1.0)x² + (1.0) = 0\n",
      "\n",
      "Phương trình có nghiệm x = -1.00\n",
      "_____________________________________\n",
      "Test Case 4\n",
      "(1.0)x⁴ + (2.0)x² + (2.0) = 0\n",
      "\n",
      "Phương trình vô nghiệm\n",
      "_____________________________________\n",
      "Test Case 5\n",
      "(1.0)x⁴ + (2.0)x² + (1.0) = 0\n",
      "\n",
      "Phương trình vô nghiệm\n",
      "_____________________________________\n",
      "Test Case 6\n",
      "(1.0)x⁴ + (-2.0)x² + (1.0) = 0\n",
      "\n",
      "Phương trình có 2 nghiệm: x1 = -1.00, x2 = 1.00\n",
      "_____________________________________\n",
      "Test Case 7\n",
      "(1.0)x⁴ + (-6.0)x² + (6.0) = 0\n",
      "\n",
      "Phương trình có 4 nghiệm: x1 = -2.18, x2 = -1.13, x3 = 1.13, x4 = 2.18\n",
      "_____________________________________\n",
      "Test Case 8\n",
      "(1.0)x⁴ + (-8.0)x² + (0.0) = 0\n",
      "\n",
      "Phương trình có 3 nghiệm: x1 = -2.83, x2 = 0.00, x3 = 2.83\n",
      "_____________________________________\n",
      "Test Case 9\n",
      "(1.0)x⁴ + (0.0)x² + (0.0) = 0\n",
      "\n",
      "Phương trình có 1 nghiệm: x1 = 0.00\n",
      "_____________________________________\n"
     ]
    }
   ],
   "source": [
    "!echo Test Case 1 \n",
    "!python pttrungphuong.py <pttrungphuong.in1\n",
    "!echo _____________________________________\n",
    "!echo Test Case 2\n",
    "!python pttrungphuong.py <pttrungphuong.in2\n",
    "!echo _____________________________________\n",
    "!echo Test Case 3\n",
    "!python pttrungphuong.py <pttrungphuong.in3\n",
    "!echo _____________________________________\n",
    "!echo Test Case 4\n",
    "!python pttrungphuong.py <pttrungphuong.in4\n",
    "!echo _____________________________________\n",
    "!echo Test Case 5\n",
    "!python pttrungphuong.py <pttrungphuong.in5\n",
    "!echo _____________________________________\n",
    "!echo Test Case 6\n",
    "!python pttrungphuong.py <pttrungphuong.in6\n",
    "!echo _____________________________________\n",
    "!echo Test Case 7\n",
    "!python pttrungphuong.py <pttrungphuong.in7\n",
    "!echo _____________________________________\n",
    "!echo Test Case 8\n",
    "!python pttrungphuong.py <pttrungphuong.in8\n",
    "!echo _____________________________________\n",
    "!echo Test Case 9\n",
    "!python pttrungphuong.py <pttrungphuong.in9\n",
    "!echo _____________________________________"
   ]
  }
 ],
 "metadata": {
  "kernelspec": {
   "display_name": "Python 3",
   "language": "python",
   "name": "python3"
  },
  "language_info": {
   "codemirror_mode": {
    "name": "ipython",
    "version": 3
   },
   "file_extension": ".py",
   "mimetype": "text/x-python",
   "name": "python",
   "nbconvert_exporter": "python",
   "pygments_lexer": "ipython3",
   "version": "3.12.4"
  }
 },
 "nbformat": 4,
 "nbformat_minor": 2
}
