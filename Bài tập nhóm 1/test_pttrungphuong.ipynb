{
 "cells": [
  {
   "cell_type": "markdown",
   "metadata": {},
   "source": [
    "PHƯƠNG TRÌNH TRÙNG PHƯƠNG"
   ]
  },
  {
   "cell_type": "markdown",
   "metadata": {},
   "source": [
    "Chương trình:"
   ]
  },
  {
   "cell_type": "code",
   "execution_count": 72,
   "metadata": {},
   "outputs": [
    {
     "name": "stdout",
     "output_type": "stream",
     "text": [
      "Overwriting pttrungphuong.py\n"
     ]
    }
   ],
   "source": [
    "%%writefile pttrungphuong.py\n",
    "import math\n",
    "\n",
    "def giaibac2(a, b, c):\n",
    "    if a == 0:\n",
    "        if b == 0:\n",
    "            if c == 0:\n",
    "                return (-1, None, None)\n",
    "            else:\n",
    "                return (0, None, None)\n",
    "        else:\n",
    "            return (1, -c / b, None)\n",
    "    else:\n",
    "        delta = b * b - 4 * a * c\n",
    "        if delta < 0:\n",
    "            return (0, None, None)\n",
    "        elif delta == 0:\n",
    "            x1 = -b / (2 * a)\n",
    "            return (1, x1, None)\n",
    "        else:\n",
    "            x1 = (-b - math.sqrt(delta)) / (2 * a)\n",
    "            x2 = (-b + math.sqrt(delta)) / (2 * a)\n",
    "            return (2, min(x1, x2), max(x1, x2)) \n",
    "        \n",
    "def giaipttrungphuong(a, b, c):\n",
    "    if a == 0:\n",
    "        if b == 0 and c != 0:\n",
    "            return (0, None, None, None, None)\n",
    "        else:\n",
    "            return giaibac2(a, b, c)\n",
    "    \n",
    "    else:\n",
    "        delta = b * b - 4 * a * c\n",
    "        if delta < 0:\n",
    "            return (0, None, None, None, None)\n",
    "        elif delta == 0:\n",
    "            t1 = -b / (2 * a)\n",
    "            return (1, t1, None, None, None)\n",
    "        else:\n",
    "            sqrt_delta = math.sqrt(delta)\n",
    "            t1 = (-b - sqrt_delta) / (2 * a)\n",
    "            t2 = (-b + sqrt_delta) / (2 * a)\n",
    "\n",
    "            solutions = set() #Tránh trường hợp lặp nghiệm\n",
    "            if t1 >= 0:\n",
    "                solutions.add(math.sqrt(t1))\n",
    "                solutions.add(-math.sqrt(t1))\n",
    "            if t2 >= 0:\n",
    "                solutions.add(math.sqrt(t2))\n",
    "                solutions.add(-math.sqrt(t2))\n",
    "            \n",
    "            solutions = sorted(solutions) # Tránh -0\n",
    "    return (len(solutions), *solutions) + (None,) * (4 - len(solutions))\n",
    "\n",
    "if __name__ == \"__main__\":\n",
    "    a, b, c = list(map(float, input().split()))\n",
    "    sn, *roots = giaipttrungphuong(a, b, c)\n",
    "    \n",
    "    if sn == -1:\n",
    "        print(\"Phương trình vô số nghiệm\")\n",
    "    elif sn == 0:\n",
    "        print(\"Phương trình vô nghiệm\")\n",
    "    elif sn == 1:\n",
    "        print(f\"Phương trình có 1 nghiệm: {roots[0]}\")\n",
    "    elif sn == 2:\n",
    "        print(f\"Phương trình có 2 nghiệm: {roots[0]} và {roots[1]}\")\n",
    "    elif sn == 3:\n",
    "        print(f\"Phương trình có 3 nghiệm: {roots[0]}, {roots[1]} và {roots[2]}\")\n",
    "    elif sn == 4:\n",
    "        print(f\"Phương trình có 4 nghiệm: {roots[0]}, {roots[1]}, {roots[2]} và {roots[3]}\")"
   ]
  },
  {
   "cell_type": "markdown",
   "metadata": {},
   "source": [
    "Testing"
   ]
  },
  {
   "cell_type": "code",
   "execution_count": 73,
   "metadata": {},
   "outputs": [
    {
     "name": "stdout",
     "output_type": "stream",
     "text": [
      "Overwriting pttrungphuong.in1\n"
     ]
    }
   ],
   "source": [
    "%%writefile pttrungphuong.in1\n",
    "0 0 0"
   ]
  },
  {
   "cell_type": "code",
   "execution_count": 74,
   "metadata": {},
   "outputs": [
    {
     "name": "stdout",
     "output_type": "stream",
     "text": [
      "Overwriting pttrungphuong.in2\n"
     ]
    }
   ],
   "source": [
    "%%writefile pttrungphuong.in2\n",
    "0 0 1"
   ]
  },
  {
   "cell_type": "code",
   "execution_count": 75,
   "metadata": {},
   "outputs": [
    {
     "name": "stdout",
     "output_type": "stream",
     "text": [
      "Overwriting pttrungphuong.in3\n"
     ]
    }
   ],
   "source": [
    "%%writefile pttrungphuong.in3\n",
    "1 0 0"
   ]
  },
  {
   "cell_type": "code",
   "execution_count": 76,
   "metadata": {},
   "outputs": [
    {
     "name": "stdout",
     "output_type": "stream",
     "text": [
      "Overwriting pttrungphuong.in4\n"
     ]
    }
   ],
   "source": [
    "%%writefile pttrungphuong.in4\n",
    "1 -2 1"
   ]
  },
  {
   "cell_type": "code",
   "execution_count": 77,
   "metadata": {},
   "outputs": [
    {
     "name": "stdout",
     "output_type": "stream",
     "text": [
      "Overwriting pttrungphuong.in5\n"
     ]
    }
   ],
   "source": [
    "%%writefile pttrungphuong.in5\n",
    "1 -4 0"
   ]
  },
  {
   "cell_type": "code",
   "execution_count": 78,
   "metadata": {},
   "outputs": [
    {
     "name": "stdout",
     "output_type": "stream",
     "text": [
      "Overwriting pttrungphuong.in6\n"
     ]
    }
   ],
   "source": [
    "%%writefile pttrungphuong.in6\n",
    "1 -5 4"
   ]
  },
  {
   "cell_type": "code",
   "execution_count": 79,
   "metadata": {},
   "outputs": [
    {
     "name": "stdout",
     "output_type": "stream",
     "text": [
      "Test Case 1\n"
     ]
    },
    {
     "name": "stdout",
     "output_type": "stream",
     "text": [
      "Phương trình vô số nghiệm\n",
      "_____________________________________\n",
      "Test Case 2\n",
      "Phương trình vô nghiệm\n",
      "_____________________________________\n",
      "Test Case 3\n",
      "Phương trình có 1 nghiệm: -0.0\n",
      "_____________________________________\n",
      "Test Case 4\n",
      "Phương trình có 1 nghiệm: 1.0\n",
      "_____________________________________\n",
      "Test Case 5\n",
      "Phương trình có 3 nghiệm: -2.0, 0.0 và 2.0\n",
      "_____________________________________\n",
      "Test Case 6\n",
      "Phương trình có 4 nghiệm: -2.0, -1.0, 1.0 và 2.0\n",
      "_____________________________________\n"
     ]
    }
   ],
   "source": [
    "!echo Test Case 1 \n",
    "!python pttrungphuong.py <pttrungphuong.in1\n",
    "!echo _____________________________________\n",
    "!echo Test Case 2\n",
    "!python pttrungphuong.py <pttrungphuong.in2\n",
    "!echo _____________________________________\n",
    "!echo Test Case 3\n",
    "!python pttrungphuong.py <pttrungphuong.in3\n",
    "!echo _____________________________________\n",
    "!echo Test Case 4\n",
    "!python pttrungphuong.py <pttrungphuong.in4\n",
    "!echo _____________________________________\n",
    "!echo Test Case 5\n",
    "!python pttrungphuong.py <pttrungphuong.in5\n",
    "!echo _____________________________________\n",
    "!echo Test Case 6\n",
    "!python pttrungphuong.py <pttrungphuong.in6\n",
    "!echo _____________________________________"
   ]
  },
  {
   "cell_type": "markdown",
   "metadata": {},
   "source": [
    "End"
   ]
  }
 ],
 "metadata": {
  "kernelspec": {
   "display_name": "Python 3",
   "language": "python",
   "name": "python3"
  },
  "language_info": {
   "codemirror_mode": {
    "name": "ipython",
    "version": 3
   },
   "file_extension": ".py",
   "mimetype": "text/x-python",
   "name": "python",
   "nbconvert_exporter": "python",
   "pygments_lexer": "ipython3",
   "version": "3.12.4"
  }
 },
 "nbformat": 4,
 "nbformat_minor": 2
}
