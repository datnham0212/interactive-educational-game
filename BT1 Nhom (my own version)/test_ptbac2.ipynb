{
 "cells": [
  {
   "cell_type": "markdown",
   "metadata": {},
   "source": [
    "PHƯƠNG TRÌNH BẬC 2"
   ]
  },
  {
   "cell_type": "markdown",
   "metadata": {},
   "source": [
    "Chương trình:"
   ]
  },
  {
   "cell_type": "code",
   "execution_count": 46,
   "metadata": {},
   "outputs": [
    {
     "name": "stdout",
     "output_type": "stream",
     "text": [
      "Overwriting ptbac2.py\n"
     ]
    }
   ],
   "source": [
    "%%writefile ptbac2.py\n",
    "import math\n",
    "def pt_bac2(a, b, c):\n",
    "    if a == 0:\n",
    "        if b == 0:\n",
    "            if c == 0:\n",
    "                return -1, None, None # Vô số nghiệm\n",
    "            else:\n",
    "                return 0, None, None # Vô nghiệm\n",
    "        else:\n",
    "            return 1, -c / b, None # 1 nghiệm\n",
    "\n",
    "    else:\n",
    "        Delta = b ** 2 - 4 * a * c\n",
    "        if Delta < 0:\n",
    "            return 0, None, None # Vô nghiệm\n",
    "        elif Delta == 0:\n",
    "            return 1, -b / (2 * a), None # 1 nghiệm\n",
    "        else:\n",
    "            x1 = (-b + math.sqrt(Delta)) / (2 * a)\n",
    "            x2 = (-b - math.sqrt(Delta)) / (2 * a)\n",
    "            if x1 > x2:\n",
    "                x1, x2 = x2, x1\n",
    "            return 2, x1, x2  # 2 nghiệm\n",
    "\n",
    "if __name__ == \"__main__\":\n",
    "    line = input()\n",
    "    a, b, c = map(float, line.split())\n",
    "\n",
    "    sn, x1, x2 = pt_bac2(a, b, c)\n",
    "\n",
    "    if sn == -1:\n",
    "        print(\"Phương trình vô số nghiệm.\")\n",
    "    elif sn == 0:\n",
    "        print(\"Phương trình vô nghiệm.\")\n",
    "    elif sn == 1:\n",
    "        print(f\"Phương trình có 1 nghiệm: x = {x1}\")\n",
    "    elif sn == 2:\n",
    "        print(f\"Phương trình có 2 nghiệm phân biệt: x1 = {x1}, x2 = {x2}\")"
   ]
  },
  {
   "cell_type": "markdown",
   "metadata": {},
   "source": [
    "Test:"
   ]
  },
  {
   "cell_type": "code",
   "execution_count": 47,
   "metadata": {},
   "outputs": [
    {
     "name": "stdout",
     "output_type": "stream",
     "text": [
      "Overwriting ptbac2.in1\n"
     ]
    }
   ],
   "source": [
    "%%writefile ptbac2.in1\n",
    "0 0 0"
   ]
  },
  {
   "cell_type": "code",
   "execution_count": 48,
   "metadata": {},
   "outputs": [
    {
     "name": "stdout",
     "output_type": "stream",
     "text": [
      "Overwriting ptbac2.in2\n"
     ]
    }
   ],
   "source": [
    "%%writefile ptbac2.in2\n",
    "0 0 1"
   ]
  },
  {
   "cell_type": "code",
   "execution_count": 49,
   "metadata": {},
   "outputs": [
    {
     "name": "stdout",
     "output_type": "stream",
     "text": [
      "Overwriting ptbac2.in3\n"
     ]
    }
   ],
   "source": [
    "%%writefile ptbac2.in3\n",
    "0 2 4"
   ]
  },
  {
   "cell_type": "code",
   "execution_count": 50,
   "metadata": {},
   "outputs": [
    {
     "name": "stdout",
     "output_type": "stream",
     "text": [
      "Overwriting ptbac2.in4\n"
     ]
    }
   ],
   "source": [
    "%%writefile ptbac2.in4\n",
    "1 0 4"
   ]
  },
  {
   "cell_type": "code",
   "execution_count": 51,
   "metadata": {},
   "outputs": [
    {
     "name": "stdout",
     "output_type": "stream",
     "text": [
      "Overwriting ptbac2.in5\n"
     ]
    }
   ],
   "source": [
    "%%writefile ptbac2.in5\n",
    "1 2 1"
   ]
  },
  {
   "cell_type": "code",
   "execution_count": 52,
   "metadata": {},
   "outputs": [
    {
     "name": "stdout",
     "output_type": "stream",
     "text": [
      "Overwriting ptbac2.in6\n"
     ]
    }
   ],
   "source": [
    "%%writefile ptbac2.in6\n",
    "1 -3 2"
   ]
  },
  {
   "cell_type": "code",
   "execution_count": 61,
   "metadata": {},
   "outputs": [
    {
     "name": "stdout",
     "output_type": "stream",
     "text": [
      "Test Case 1:\n",
      "Phương trình vô số nghiệm.\n",
      "_____________________________________\n",
      "Test Case 2:\n",
      "Phương trình vô nghiệm.\n",
      "_____________________________________\n",
      "Test Case 3:\n",
      "Phương trình có 1 nghiệm: x = -2.0\n",
      "_____________________________________\n",
      "Test Case 4:\n",
      "Phương trình vô nghiệm.\n",
      "_____________________________________\n",
      "Test Case 5:\n",
      "Phương trình có 1 nghiệm: x = -1.0\n",
      "_____________________________________\n",
      "Test Case 6:\n",
      "Phương trình có 2 nghiệm phân biệt: x1 = 1.0, x2 = 2.0\n",
      "_____________________________________\n"
     ]
    }
   ],
   "source": [
    "!echo Test Case 1: \n",
    "!python ptbac2.py < ptbac2.in1\n",
    "!echo _____________________________________\n",
    "!echo Test Case 2: \n",
    "!python ptbac2.py < ptbac2.in2\n",
    "!echo _____________________________________\n",
    "!echo Test Case 3: \n",
    "!python ptbac2.py < ptbac2.in3\n",
    "!echo _____________________________________\n",
    "!echo Test Case 4: \n",
    "!python ptbac2.py < ptbac2.in4\n",
    "!echo _____________________________________\n",
    "!echo Test Case 5: \n",
    "!python ptbac2.py < ptbac2.in5\n",
    "!echo _____________________________________\n",
    "!echo Test Case 6: \n",
    "!python ptbac2.py < ptbac2.in6\n",
    "!echo _____________________________________"
   ]
  }
 ],
 "metadata": {
  "kernelspec": {
   "display_name": "Python 3",
   "language": "python",
   "name": "python3"
  },
  "language_info": {
   "codemirror_mode": {
    "name": "ipython",
    "version": 3
   },
   "file_extension": ".py",
   "mimetype": "text/x-python",
   "name": "python",
   "nbconvert_exporter": "python",
   "pygments_lexer": "ipython3",
   "version": "3.12.4"
  }
 },
 "nbformat": 4,
 "nbformat_minor": 2
}
