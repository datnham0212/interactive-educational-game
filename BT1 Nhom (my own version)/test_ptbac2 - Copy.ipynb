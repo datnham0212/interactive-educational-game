{
 "cells": [
  {
   "cell_type": "code",
   "execution_count": null,
   "metadata": {},
   "outputs": [],
   "source": [
    "import math\n",
    "\n",
    "def solve_equation(a, b, c):\n",
    "    if a == 0:\n",
    "        if b == 0:\n",
    "            if c == 0:\n",
    "                return -1, None, None  # Infinite solutions\n",
    "            else:\n",
    "                return 0, None, None  # No solution\n",
    "        else:\n",
    "            return 1, -c / b, None  # Linear equation\n",
    "    else:\n",
    "        Delta = b ** 2 - 4 * a * c\n",
    "        if Delta < 0:\n",
    "            return 0, None, None  # No real solution\n",
    "        elif Delta == 0:\n",
    "            return 1, -b / (2 * a), None  # Repeated solution\n",
    "        else:\n",
    "            x1 = (-b + math.sqrt(Delta)) / (2 * a)\n",
    "            x2 = (-b - math.sqrt(Delta)) / (2 * a)\n",
    "            if x1 > x2:\n",
    "                x1, x2 = x2, x1\n",
    "            return 2, x1, x2  # Two distinct solutions"
   ]
  },
  {
   "cell_type": "code",
   "execution_count": 8,
   "metadata": {},
   "outputs": [
    {
     "name": "stdout",
     "output_type": "stream",
     "text": [
      "Overwriting ptbac2.in1\n"
     ]
    }
   ],
   "source": [
    "%%writefile ptbac2.in1\n",
    "0 0 0"
   ]
  },
  {
   "cell_type": "code",
   "execution_count": 9,
   "metadata": {},
   "outputs": [
    {
     "name": "stdout",
     "output_type": "stream",
     "text": [
      "Overwriting ptbac2.in2\n"
     ]
    }
   ],
   "source": [
    "%%writefile ptbac2.in2\n",
    "0 0 1"
   ]
  },
  {
   "cell_type": "code",
   "execution_count": 10,
   "metadata": {},
   "outputs": [
    {
     "name": "stdout",
     "output_type": "stream",
     "text": [
      "Overwriting ptbac2.in3\n"
     ]
    }
   ],
   "source": [
    "%%writefile ptbac2.in3\n",
    "0 2 4"
   ]
  },
  {
   "cell_type": "code",
   "execution_count": 11,
   "metadata": {},
   "outputs": [
    {
     "name": "stdout",
     "output_type": "stream",
     "text": [
      "Overwriting ptbac2.in4\n"
     ]
    }
   ],
   "source": [
    "%%writefile ptbac2.in4\n",
    "1 0 4"
   ]
  },
  {
   "cell_type": "code",
   "execution_count": 12,
   "metadata": {},
   "outputs": [
    {
     "name": "stdout",
     "output_type": "stream",
     "text": [
      "Overwriting ptbac2.in5\n"
     ]
    }
   ],
   "source": [
    "%%writefile ptbac2.in5\n",
    "1 2 1"
   ]
  },
  {
   "cell_type": "code",
   "execution_count": 13,
   "metadata": {},
   "outputs": [
    {
     "name": "stdout",
     "output_type": "stream",
     "text": [
      "Overwriting ptbac2.in6\n"
     ]
    }
   ],
   "source": [
    "%%writefile ptbac2.in6\n",
    "1 -3 2"
   ]
  },
  {
   "cell_type": "code",
   "execution_count": 14,
   "metadata": {},
   "outputs": [
    {
     "name": "stdout",
     "output_type": "stream",
     "text": [
      "Test Case 1:\n"
     ]
    },
    {
     "name": "stdout",
     "output_type": "stream",
     "text": [
      "Phương trình vô số nghiệm.\n",
      "_____________________________________\n",
      "Test Case 2:\n",
      "Phương trình vô nghiệm.\n",
      "_____________________________________\n",
      "Test Case 3:\n",
      "Phương trình có 1 nghiệm: x = -2.0\n",
      "_____________________________________\n",
      "Test Case 4:\n",
      "Phương trình vô nghiệm.\n",
      "_____________________________________\n",
      "Test Case 5:\n",
      "Phương trình có 1 nghiệm: x = -1.0\n",
      "_____________________________________\n",
      "Test Case 6:\n",
      "Phương trình có 2 nghiệm phân biệt: x1 = 1.0, x2 = 2.0\n",
      "_____________________________________\n"
     ]
    }
   ],
   "source": [
    "!echo Test Case 1: \n",
    "!python ptbac2.py < ptbac2.in1\n",
    "!echo _____________________________________\n",
    "!echo Test Case 2: \n",
    "!python ptbac2.py < ptbac2.in2\n",
    "!echo _____________________________________\n",
    "!echo Test Case 3: \n",
    "!python ptbac2.py < ptbac2.in3\n",
    "!echo _____________________________________\n",
    "!echo Test Case 4: \n",
    "!python ptbac2.py < ptbac2.in4\n",
    "!echo _____________________________________\n",
    "!echo Test Case 5: \n",
    "!python ptbac2.py < ptbac2.in5\n",
    "!echo _____________________________________\n",
    "!echo Test Case 6: \n",
    "!python ptbac2.py < ptbac2.in6\n",
    "!echo _____________________________________\n"
   ]
  }
 ],
 "metadata": {
  "kernelspec": {
   "display_name": "Python 3",
   "language": "python",
   "name": "python3"
  },
  "language_info": {
   "codemirror_mode": {
    "name": "ipython",
    "version": 3
   },
   "file_extension": ".py",
   "mimetype": "text/x-python",
   "name": "python",
   "nbconvert_exporter": "python",
   "pygments_lexer": "ipython3",
   "version": "3.12.4"
  }
 },
 "nbformat": 4,
 "nbformat_minor": 2
}
